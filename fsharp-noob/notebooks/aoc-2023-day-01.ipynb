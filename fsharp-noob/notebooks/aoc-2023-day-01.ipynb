{
 "cells": [
  {
   "attachments": {},
   "cell_type": "markdown",
   "metadata": {},
   "source": [
    "# AOC 2023 for F#"
   ]
  },
  {
   "cell_type": "code",
   "execution_count": 17,
   "metadata": {
    "dotnet_interactive": {
     "language": "csharp"
    },
    "polyglot_notebook": {
     "kernelName": "csharp"
    },
    "vscode": {
     "languageId": "polyglot-notebook"
    }
   },
   "outputs": [],
   "source": [
    "#!fsharp\n",
    "let parse_input(input: string) =\n",
    "    // Add your logic to parse the input here\n",
    "    input\n",
    "\n",
    "let solve_a(input: string) =\n",
    "    // Add your logic to solve problem A here\n",
    "    input\n",
    "\n",
    "let test_input = \"\"\"\n",
    "1abc2\n",
    "pqr3stu8vwx\n",
    "a1b2c3d4e5f\n",
    "treb7uc het\n",
    "\"\"\"\n",
    "\n",
    "let test_output = test_input |> parse_input |> solve_a\n"
   ]
  },
  {
   "cell_type": "code",
   "execution_count": 18,
   "metadata": {
    "dotnet_interactive": {
     "language": "csharp"
    },
    "polyglot_notebook": {
     "kernelName": "csharp"
    },
    "vscode": {
     "languageId": "polyglot-notebook"
    }
   },
   "outputs": [
    {
     "name": "stdout",
     "output_type": "stream",
     "text": [
      "Hi 16387064\n"
     ]
    }
   ],
   "source": [
    "#!fsharp\n",
    "// Day 01 - Step A\n",
    "\n",
    "let sq x = x * x * x\n",
    "sq 254 |> printfn \"Hi %A\""
   ]
  },
  {
   "cell_type": "code",
   "execution_count": 19,
   "metadata": {
    "dotnet_interactive": {
     "language": "csharp"
    },
    "polyglot_notebook": {
     "kernelName": "csharp"
    },
    "vscode": {
     "languageId": "polyglot-notebook"
    }
   },
   "outputs": [
    {
     "name": "stdout",
     "output_type": "stream",
     "text": [
      "Guid 0baebf22-f6ec-45e4-8874-e0665c4d2185\n"
     ]
    }
   ],
   "source": [
    "#!fsharp\n",
    "\n",
    "open System\n",
    "\n",
    "type TopicIdentifier = Guid\n",
    "\n",
    "let g = TopicIdentifier.NewGuid()\n",
    "\n",
    "printfn \"Guid %A\" g\n"
   ]
  },
  {
   "cell_type": "code",
   "execution_count": 20,
   "metadata": {
    "dotnet_interactive": {
     "language": "csharp"
    },
    "polyglot_notebook": {
     "kernelName": "csharp"
    },
    "vscode": {
     "languageId": "polyglot-notebook"
    }
   },
   "outputs": [],
   "source": [
    "#!fsharp\n",
    "\n",
    "open System\n",
    "\n"
   ]
  }
 ],
 "metadata": {
  "language_info": {
   "name": "python"
  },
  "orig_nbformat": 4
 },
 "nbformat": 4,
 "nbformat_minor": 2
}
